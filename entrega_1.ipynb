{
 "cells": [
  {
   "cell_type": "markdown",
   "id": "4db3f66f",
   "metadata": {},
   "source": [
    "## Análisis de la base de datos"
   ]
  },
  {
   "cell_type": "markdown",
   "id": "e33efb63",
   "metadata": {},
   "source": [
    "### 1. Propuesta de Negocio"
   ]
  },
  {
   "cell_type": "markdown",
   "id": "a7255134",
   "metadata": {},
   "source": [
    "La idea de negocio es .... desarrollar esta idea mejor"
   ]
  },
  {
   "cell_type": "markdown",
   "id": "4658571f",
   "metadata": {},
   "source": [
    "alcance"
   ]
  },
  {
   "cell_type": "markdown",
   "id": "d7d66197",
   "metadata": {},
   "source": [
    "descripción de la base"
   ]
  },
  {
   "cell_type": "markdown",
   "id": "a36cf820",
   "metadata": {},
   "source": [
    "### Análisis descriptivo de los datos"
   ]
  },
  {
   "cell_type": "markdown",
   "id": "fa4635d1",
   "metadata": {},
   "source": []
  },
  {
   "cell_type": "code",
   "execution_count": 1,
   "id": "72764c41",
   "metadata": {},
   "outputs": [
    {
     "name": "stderr",
     "output_type": "stream",
     "text": [
      "Matplotlib is building the font cache; this may take a moment.\n"
     ]
    }
   ],
   "source": [
    "import pandas as pd\n",
    "import numpy as np\n",
    "import matplotlib.pyplot as plt"
   ]
  }
 ],
 "metadata": {
  "kernelspec": {
   "display_name": "base",
   "language": "python",
   "name": "python3"
  },
  "language_info": {
   "codemirror_mode": {
    "name": "ipython",
    "version": 3
   },
   "file_extension": ".py",
   "mimetype": "text/x-python",
   "name": "python",
   "nbconvert_exporter": "python",
   "pygments_lexer": "ipython3",
   "version": "3.13.5"
  }
 },
 "nbformat": 4,
 "nbformat_minor": 5
}
